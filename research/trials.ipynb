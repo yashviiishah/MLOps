{
 "cells": [
  {
   "cell_type": "code",
   "execution_count": 2,
   "id": "8efb5809",
   "metadata": {},
   "outputs": [],
   "source": [
    "d= {\"key\" :\"val\",\"key2\":\"val2\"}"
   ]
  },
  {
   "cell_type": "code",
   "execution_count": 3,
   "id": "28b30fc4",
   "metadata": {},
   "outputs": [
    {
     "data": {
      "text/plain": [
       "'val'"
      ]
     },
     "execution_count": 3,
     "metadata": {},
     "output_type": "execute_result"
    }
   ],
   "source": [
    "d[\"key\"]"
   ]
  },
  {
   "cell_type": "code",
   "execution_count": 4,
   "id": "6da0c9ca",
   "metadata": {},
   "outputs": [],
   "source": [
    "from box import ConfigBox\n"
   ]
  },
  {
   "cell_type": "code",
   "execution_count": 5,
   "id": "c13aefcb",
   "metadata": {},
   "outputs": [],
   "source": [
    "d2= {\"key\" :\"val\",\"key2\":\"val2\"}"
   ]
  },
  {
   "cell_type": "code",
   "execution_count": 6,
   "id": "9eb174ae",
   "metadata": {},
   "outputs": [],
   "source": [
    "d2 =ConfigBox(d2)"
   ]
  },
  {
   "cell_type": "code",
   "execution_count": 8,
   "id": "5583d73e",
   "metadata": {},
   "outputs": [
    {
     "data": {
      "text/plain": [
       "'val2'"
      ]
     },
     "execution_count": 8,
     "metadata": {},
     "output_type": "execute_result"
    }
   ],
   "source": [
    "d2.key2"
   ]
  },
  {
   "cell_type": "code",
   "execution_count": 9,
   "id": "9cf0db8d",
   "metadata": {},
   "outputs": [],
   "source": [
    "def ger_product(x:int,y:int):\n",
    "    return x*y"
   ]
  },
  {
   "cell_type": "code",
   "execution_count": 10,
   "id": "8da92559",
   "metadata": {},
   "outputs": [
    {
     "data": {
      "text/plain": [
       "6"
      ]
     },
     "execution_count": 10,
     "metadata": {},
     "output_type": "execute_result"
    }
   ],
   "source": [
    "ger_product(x=2,y=3)"
   ]
  },
  {
   "cell_type": "code",
   "execution_count": 12,
   "id": "8ab316cd",
   "metadata": {},
   "outputs": [
    {
     "data": {
      "text/plain": [
       "'44'"
      ]
     },
     "execution_count": 12,
     "metadata": {},
     "output_type": "execute_result"
    }
   ],
   "source": [
    "ger_product(x=2,y=\"4\")"
   ]
  },
  {
   "cell_type": "code",
   "execution_count": 13,
   "id": "6a7806ce",
   "metadata": {},
   "outputs": [],
   "source": [
    "from ensure import ensure_annotations"
   ]
  },
  {
   "cell_type": "code",
   "execution_count": 15,
   "id": "67753219",
   "metadata": {},
   "outputs": [],
   "source": [
    "@ensure_annotations\n",
    "\n",
    "def ger_product(x:int,y:int):\n",
    "    return x*y"
   ]
  },
  {
   "cell_type": "code",
   "execution_count": 16,
   "id": "450b3576",
   "metadata": {},
   "outputs": [
    {
     "ename": "EnsureError",
     "evalue": "Argument y of type <class 'str'> to <function ger_product at 0x000001B7F9E4D430> does not match annotation type <class 'int'>",
     "output_type": "error",
     "traceback": [
      "\u001b[1;31m---------------------------------------------------------------------------\u001b[0m",
      "\u001b[1;31mEnsureError\u001b[0m                               Traceback (most recent call last)",
      "Cell \u001b[1;32mIn[16], line 1\u001b[0m\n\u001b[1;32m----> 1\u001b[0m \u001b[43mger_product\u001b[49m\u001b[43m(\u001b[49m\u001b[43mx\u001b[49m\u001b[38;5;241;43m=\u001b[39;49m\u001b[38;5;241;43m2\u001b[39;49m\u001b[43m,\u001b[49m\u001b[43my\u001b[49m\u001b[38;5;241;43m=\u001b[39;49m\u001b[38;5;124;43m\"\u001b[39;49m\u001b[38;5;124;43m4\u001b[39;49m\u001b[38;5;124;43m\"\u001b[39;49m\u001b[43m)\u001b[49m\n",
      "File \u001b[1;32mc:\\Users\\yashv\\anaconda3\\envs\\apdproj\\lib\\site-packages\\ensure\\main.py:803\u001b[0m, in \u001b[0;36mWrappedFunction.__call__\u001b[1;34m(self, *args, **kwargs)\u001b[0m\n\u001b[0;32m    798\u001b[0m     \u001b[38;5;28;01mif\u001b[39;00m \u001b[38;5;129;01mnot\u001b[39;00m \u001b[38;5;28misinstance\u001b[39m(value, templ):\n\u001b[0;32m    799\u001b[0m         msg \u001b[38;5;241m=\u001b[39m (\n\u001b[0;32m    800\u001b[0m             \u001b[38;5;124m\"\u001b[39m\u001b[38;5;124mArgument \u001b[39m\u001b[38;5;132;01m{arg}\u001b[39;00m\u001b[38;5;124m of type \u001b[39m\u001b[38;5;132;01m{valt}\u001b[39;00m\u001b[38;5;124m to \u001b[39m\u001b[38;5;132;01m{f}\u001b[39;00m\u001b[38;5;124m \u001b[39m\u001b[38;5;124m\"\u001b[39m\n\u001b[0;32m    801\u001b[0m             \u001b[38;5;124m\"\u001b[39m\u001b[38;5;124mdoes not match annotation type \u001b[39m\u001b[38;5;132;01m{t}\u001b[39;00m\u001b[38;5;124m\"\u001b[39m\n\u001b[0;32m    802\u001b[0m         )\n\u001b[1;32m--> 803\u001b[0m         \u001b[38;5;28;01mraise\u001b[39;00m EnsureError(msg\u001b[38;5;241m.\u001b[39mformat(\n\u001b[0;32m    804\u001b[0m             arg\u001b[38;5;241m=\u001b[39marg, f\u001b[38;5;241m=\u001b[39m\u001b[38;5;28mself\u001b[39m\u001b[38;5;241m.\u001b[39mf, t\u001b[38;5;241m=\u001b[39mtempl, valt\u001b[38;5;241m=\u001b[39m\u001b[38;5;28mtype\u001b[39m(value)\n\u001b[0;32m    805\u001b[0m         ))\n\u001b[0;32m    807\u001b[0m \u001b[38;5;28;01mreturn\u001b[39;00m \u001b[38;5;28mself\u001b[39m\u001b[38;5;241m.\u001b[39mf(\u001b[38;5;241m*\u001b[39margs, \u001b[38;5;241m*\u001b[39m\u001b[38;5;241m*\u001b[39mkwargs)\n",
      "\u001b[1;31mEnsureError\u001b[0m: Argument y of type <class 'str'> to <function ger_product at 0x000001B7F9E4D430> does not match annotation type <class 'int'>"
     ]
    }
   ],
   "source": [
    "ger_product(x=2,y=\"4\")"
   ]
  },
  {
   "cell_type": "code",
   "execution_count": null,
   "id": "66749b88",
   "metadata": {},
   "outputs": [],
   "source": []
  },
  {
   "cell_type": "markdown",
   "id": "e9817075",
   "metadata": {},
   "source": [
    "download data from GD"
   ]
  },
  {
   "cell_type": "code",
   "execution_count": 1,
   "id": "481eb851",
   "metadata": {},
   "outputs": [],
   "source": [
    "import gdown"
   ]
  },
  {
   "cell_type": "code",
   "execution_count": 2,
   "id": "b5c7b538",
   "metadata": {},
   "outputs": [],
   "source": [
    "url=\"https://drive.google.com/file/d/18qY2PqbvPW7AWPzouiOtrjW-afzoFJb9/view?usp=sharing\""
   ]
  },
  {
   "cell_type": "code",
   "execution_count": 7,
   "id": "58fe9a75",
   "metadata": {},
   "outputs": [
    {
     "data": {
      "text/plain": [
       "'18qY2PqbvPW7AWPzouiOtrjW-afzoFJb9'"
      ]
     },
     "execution_count": 7,
     "metadata": {},
     "output_type": "execute_result"
    }
   ],
   "source": [
    "file_id = url.split('/')[-2]\n",
    "file_id"
   ]
  },
  {
   "cell_type": "code",
   "execution_count": 8,
   "id": "f3139838",
   "metadata": {},
   "outputs": [
    {
     "name": "stderr",
     "output_type": "stream",
     "text": [
      "Downloading...\n",
      "From (original): https://drive.google.com/uc?/export=download&id=18qY2PqbvPW7AWPzouiOtrjW-afzoFJb9\n",
      "From (redirected): https://drive.google.com/uc?%2Fexport=download&id=18qY2PqbvPW7AWPzouiOtrjW-afzoFJb9&confirm=t&uuid=7cb93f3d-b1e7-466a-80a1-0b1f66c376df\n",
      "To: d:\\ChestCancer\\MLOps\\research\\Chest-CT-Scan-data.zip\n",
      "100%|██████████| 65.6M/65.6M [00:11<00:00, 5.66MB/s]\n"
     ]
    },
    {
     "data": {
      "text/plain": [
       "'Chest-CT-Scan-data.zip'"
      ]
     },
     "execution_count": 8,
     "metadata": {},
     "output_type": "execute_result"
    }
   ],
   "source": [
    "prefix = 'https://drive.google.com/uc?/export=download&id='\n",
    "gdown.download(prefix+file_id, \"Chest-CT-Scan-data.zip\")"
   ]
  }
 ],
 "metadata": {
  "kernelspec": {
   "display_name": "apdproj",
   "language": "python",
   "name": "python3"
  },
  "language_info": {
   "codemirror_mode": {
    "name": "ipython",
    "version": 3
   },
   "file_extension": ".py",
   "mimetype": "text/x-python",
   "name": "python",
   "nbconvert_exporter": "python",
   "pygments_lexer": "ipython3",
   "version": "3.8.20"
  }
 },
 "nbformat": 4,
 "nbformat_minor": 5
}
